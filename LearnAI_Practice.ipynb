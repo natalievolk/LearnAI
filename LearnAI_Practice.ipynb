{
  "nbformat": 4,
  "nbformat_minor": 0,
  "metadata": {
    "colab": {
      "name": "LearnAI-Practice.ipynb",
      "provenance": [],
      "collapsed_sections": [],
      "include_colab_link": true
    },
    "kernelspec": {
      "name": "python3",
      "display_name": "Python 3"
    }
  },
  "cells": [
    {
      "cell_type": "markdown",
      "metadata": {
        "id": "view-in-github",
        "colab_type": "text"
      },
      "source": [
        "<a href=\"https://colab.research.google.com/github/natalievolk/LearnAI/blob/main/LearnAI_Practice.ipynb\" target=\"_parent\"><img src=\"https://colab.research.google.com/assets/colab-badge.svg\" alt=\"Open In Colab\"/></a>"
      ]
    },
    {
      "cell_type": "code",
      "metadata": {
        "id": "EWdwjqsPmZkF"
      },
      "source": [
        "import numpy as np\n",
        "import pandas as pd\n",
        "import matplotlib.pyplot as plt\n",
        "import torch\n",
        "import torch.nn as nn\n",
        "import torch.optim as optim\n",
        "from torch.utils.data import Dataset, DataLoader\n",
        "\n",
        "# pillow to load image\n",
        "from PIL import Image\n",
        "import cv2\n",
        "import requests\n",
        "from io import BytesIO\n",
        "#import urllib2\n",
        "\n"
      ],
      "execution_count": 89,
      "outputs": []
    },
    {
      "cell_type": "code",
      "metadata": {
        "colab": {
          "base_uri": "https://localhost:8080/",
          "height": 359
        },
        "id": "4iHIC3tJsire",
        "outputId": "bd5f994c-bd4a-4e17-971a-b4572d718df7"
      },
      "source": [
        "# training data\n",
        "url_train = 'https://raw.githubusercontent.com/natalievolk/LearnAI/main/book30-listing-train.csv'\n",
        "data_train = pd.read_csv(url_train, index_col=False, usecols=[2,5], encoding = \"ISO-8859-1\")\n",
        "data_train.columns = ['jpg_url', 'classification']\n",
        "\n",
        "\n",
        "# testing data\n",
        "url_test = 'https://raw.githubusercontent.com/natalievolk/LearnAI/main/book30-listing-test.csv'\n",
        "data_test = pd.read_csv(url_test, index_col=False, usecols=[2,5], encoding = \"ISO-8859-1\")\n",
        "data_test.columns = ['jpg_url', 'classification']\n",
        "\n",
        "data_train.head()\n",
        "data_test.head(10)"
      ],
      "execution_count": 90,
      "outputs": [
        {
          "output_type": "execute_result",
          "data": {
            "text/html": [
              "<div>\n",
              "<style scoped>\n",
              "    .dataframe tbody tr th:only-of-type {\n",
              "        vertical-align: middle;\n",
              "    }\n",
              "\n",
              "    .dataframe tbody tr th {\n",
              "        vertical-align: top;\n",
              "    }\n",
              "\n",
              "    .dataframe thead th {\n",
              "        text-align: right;\n",
              "    }\n",
              "</style>\n",
              "<table border=\"1\" class=\"dataframe\">\n",
              "  <thead>\n",
              "    <tr style=\"text-align: right;\">\n",
              "      <th></th>\n",
              "      <th>jpg_url</th>\n",
              "      <th>classification</th>\n",
              "    </tr>\n",
              "  </thead>\n",
              "  <tbody>\n",
              "    <tr>\n",
              "      <th>0</th>\n",
              "      <td>http://ecx.images-amazon.com/images/I/510l0qhi...</td>\n",
              "      <td>28</td>\n",
              "    </tr>\n",
              "    <tr>\n",
              "      <th>1</th>\n",
              "      <td>http://ecx.images-amazon.com/images/I/51p5aUY%...</td>\n",
              "      <td>1</td>\n",
              "    </tr>\n",
              "    <tr>\n",
              "      <th>2</th>\n",
              "      <td>http://ecx.images-amazon.com/images/I/51pum0eW...</td>\n",
              "      <td>21</td>\n",
              "    </tr>\n",
              "    <tr>\n",
              "      <th>3</th>\n",
              "      <td>http://ecx.images-amazon.com/images/I/51PuTPPC...</td>\n",
              "      <td>0</td>\n",
              "    </tr>\n",
              "    <tr>\n",
              "      <th>4</th>\n",
              "      <td>http://ecx.images-amazon.com/images/I/51uNnIlI...</td>\n",
              "      <td>15</td>\n",
              "    </tr>\n",
              "    <tr>\n",
              "      <th>5</th>\n",
              "      <td>http://ecx.images-amazon.com/images/I/51VIlqRy...</td>\n",
              "      <td>10</td>\n",
              "    </tr>\n",
              "    <tr>\n",
              "      <th>6</th>\n",
              "      <td>http://ecx.images-amazon.com/images/I/41n7iZq-...</td>\n",
              "      <td>23</td>\n",
              "    </tr>\n",
              "    <tr>\n",
              "      <th>7</th>\n",
              "      <td>http://ecx.images-amazon.com/images/I/41xLYt-v...</td>\n",
              "      <td>9</td>\n",
              "    </tr>\n",
              "    <tr>\n",
              "      <th>8</th>\n",
              "      <td>http://ecx.images-amazon.com/images/I/51KyLXcz...</td>\n",
              "      <td>4</td>\n",
              "    </tr>\n",
              "    <tr>\n",
              "      <th>9</th>\n",
              "      <td>http://ecx.images-amazon.com/images/I/51Jku59B...</td>\n",
              "      <td>25</td>\n",
              "    </tr>\n",
              "  </tbody>\n",
              "</table>\n",
              "</div>"
            ],
            "text/plain": [
              "                                             jpg_url  classification\n",
              "0  http://ecx.images-amazon.com/images/I/510l0qhi...              28\n",
              "1  http://ecx.images-amazon.com/images/I/51p5aUY%...               1\n",
              "2  http://ecx.images-amazon.com/images/I/51pum0eW...              21\n",
              "3  http://ecx.images-amazon.com/images/I/51PuTPPC...               0\n",
              "4  http://ecx.images-amazon.com/images/I/51uNnIlI...              15\n",
              "5  http://ecx.images-amazon.com/images/I/51VIlqRy...              10\n",
              "6  http://ecx.images-amazon.com/images/I/41n7iZq-...              23\n",
              "7  http://ecx.images-amazon.com/images/I/41xLYt-v...               9\n",
              "8  http://ecx.images-amazon.com/images/I/51KyLXcz...               4\n",
              "9  http://ecx.images-amazon.com/images/I/51Jku59B...              25"
            ]
          },
          "metadata": {
            "tags": []
          },
          "execution_count": 90
        }
      ]
    },
    {
      "cell_type": "code",
      "metadata": {
        "id": "xJSIWlbL8H2k"
      },
      "source": [
        "mini_train_size = 20\n",
        "mini_train = data_train.head(mini_train_size)\n",
        "\n",
        "mini_test_size = 5\n",
        "mini_test = data_test.head(mini_test_size)\n",
        "\n",
        "pixel_size = 400"
      ],
      "execution_count": 107,
      "outputs": []
    },
    {
      "cell_type": "code",
      "metadata": {
        "colab": {
          "base_uri": "https://localhost:8080/",
          "height": 626
        },
        "id": "Ci3MhQOVu23l",
        "outputId": "a1fea230-a4ee-401e-ccd9-adf8c19df533"
      },
      "source": [
        "# MAKING TRAINING SET\n",
        "\n",
        "dataset = []\n",
        " \n",
        "for image_name in mini_train['jpg_url']:\n",
        "    response = requests.get(image_name)\n",
        "    img = Image.open(BytesIO(response.content)).resize((pixel_size, pixel_size))\n",
        "    print(img.size) # output should be (400, 400) if the resizing worked\n",
        "    # should we crop the image??\n",
        "    pix = np.array(img)\n",
        "    dataset.append((pix))\n",
        "\n",
        "train_x = np.array(dataset)\n",
        "\n",
        "train_y = mini_train['classification'].values\n",
        "train_y\n",
        "train_x.shape"
      ],
      "execution_count": 108,
      "outputs": [
        {
          "output_type": "stream",
          "text": [
            "(400, 400)\n",
            "(400, 400)\n",
            "(400, 400)\n",
            "(400, 400)\n",
            "(400, 400)\n",
            "(400, 400)\n",
            "(400, 400)\n",
            "(400, 400)\n",
            "(400, 400)\n",
            "(400, 400)\n",
            "(400, 400)\n",
            "(400, 400)\n",
            "(400, 400)\n",
            "(400, 400)\n",
            "(400, 400)\n",
            "(400, 400)\n",
            "(400, 400)\n",
            "(400, 400)\n",
            "(400, 400)\n",
            "(400, 400)\n"
          ],
          "name": "stdout"
        },
        {
          "output_type": "stream",
          "text": [
            "/usr/local/lib/python3.6/dist-packages/ipykernel_launcher.py:13: VisibleDeprecationWarning: Creating an ndarray from ragged nested sequences (which is a list-or-tuple of lists-or-tuples-or ndarrays with different lengths or shapes) is deprecated. If you meant to do this, you must specify 'dtype=object' when creating the ndarray\n",
            "  del sys.path[0]\n"
          ],
          "name": "stderr"
        },
        {
          "output_type": "error",
          "ename": "ValueError",
          "evalue": "ignored",
          "traceback": [
            "\u001b[0;31m---------------------------------------------------------------------------\u001b[0m",
            "\u001b[0;31mValueError\u001b[0m                                Traceback (most recent call last)",
            "\u001b[0;32m<ipython-input-108-c54901a4a7f0>\u001b[0m in \u001b[0;36m<module>\u001b[0;34m()\u001b[0m\n\u001b[1;32m     11\u001b[0m     \u001b[0mdataset\u001b[0m\u001b[0;34m.\u001b[0m\u001b[0mappend\u001b[0m\u001b[0;34m(\u001b[0m\u001b[0;34m(\u001b[0m\u001b[0mpix\u001b[0m\u001b[0;34m)\u001b[0m\u001b[0;34m)\u001b[0m\u001b[0;34m\u001b[0m\u001b[0;34m\u001b[0m\u001b[0m\n\u001b[1;32m     12\u001b[0m \u001b[0;34m\u001b[0m\u001b[0m\n\u001b[0;32m---> 13\u001b[0;31m \u001b[0mtrain_x\u001b[0m \u001b[0;34m=\u001b[0m \u001b[0mnp\u001b[0m\u001b[0;34m.\u001b[0m\u001b[0marray\u001b[0m\u001b[0;34m(\u001b[0m\u001b[0mdataset\u001b[0m\u001b[0;34m)\u001b[0m\u001b[0;34m\u001b[0m\u001b[0;34m\u001b[0m\u001b[0m\n\u001b[0m\u001b[1;32m     14\u001b[0m \u001b[0;34m\u001b[0m\u001b[0m\n\u001b[1;32m     15\u001b[0m \u001b[0mtrain_y\u001b[0m \u001b[0;34m=\u001b[0m \u001b[0mmini_train\u001b[0m\u001b[0;34m[\u001b[0m\u001b[0;34m'classification'\u001b[0m\u001b[0;34m]\u001b[0m\u001b[0;34m.\u001b[0m\u001b[0mvalues\u001b[0m\u001b[0;34m\u001b[0m\u001b[0;34m\u001b[0m\u001b[0m\n",
            "\u001b[0;31mValueError\u001b[0m: could not broadcast input array from shape (400,400,3) into shape (400,400)"
          ]
        }
      ]
    },
    {
      "cell_type": "code",
      "metadata": {
        "colab": {
          "base_uri": "https://localhost:8080/",
          "height": 232
        },
        "id": "waWBRoFyB_Mo",
        "outputId": "c3f2c738-af5c-467f-eefe-cd0af3cbc739"
      },
      "source": [
        "# CONVERTING AND RESHAPING TRAINING DATA\n",
        "# converting training images into torch format\n",
        "train_x = train_x.reshape(mini_train_size, 3, pixel_size, pixel_size)\n",
        "train_x  = torch.from_numpy(train_x)\n",
        "\n",
        "# converting the target into torch format\n",
        "train_y = train_y.astype(int);\n",
        "train_y = torch.from_numpy(train_y)\n",
        "\n",
        "# shape of training data\n",
        "train_x.shape, train_y.shape"
      ],
      "execution_count": 109,
      "outputs": [
        {
          "output_type": "error",
          "ename": "ValueError",
          "evalue": "ignored",
          "traceback": [
            "\u001b[0;31m---------------------------------------------------------------------------\u001b[0m",
            "\u001b[0;31mValueError\u001b[0m                                Traceback (most recent call last)",
            "\u001b[0;32m<ipython-input-109-d87884a3e49a>\u001b[0m in \u001b[0;36m<module>\u001b[0;34m()\u001b[0m\n\u001b[1;32m      1\u001b[0m \u001b[0;31m# CONVERTING AND RESHAPING TRAINING DATA\u001b[0m\u001b[0;34m\u001b[0m\u001b[0;34m\u001b[0m\u001b[0;34m\u001b[0m\u001b[0m\n\u001b[1;32m      2\u001b[0m \u001b[0;31m# converting training images into torch format\u001b[0m\u001b[0;34m\u001b[0m\u001b[0;34m\u001b[0m\u001b[0;34m\u001b[0m\u001b[0m\n\u001b[0;32m----> 3\u001b[0;31m \u001b[0mtrain_x\u001b[0m \u001b[0;34m=\u001b[0m \u001b[0mtrain_x\u001b[0m\u001b[0;34m.\u001b[0m\u001b[0mreshape\u001b[0m\u001b[0;34m(\u001b[0m\u001b[0mmini_train_size\u001b[0m\u001b[0;34m,\u001b[0m \u001b[0;36m3\u001b[0m\u001b[0;34m,\u001b[0m \u001b[0mpixel_size\u001b[0m\u001b[0;34m,\u001b[0m \u001b[0mpixel_size\u001b[0m\u001b[0;34m)\u001b[0m\u001b[0;34m\u001b[0m\u001b[0;34m\u001b[0m\u001b[0m\n\u001b[0m\u001b[1;32m      4\u001b[0m \u001b[0mtrain_x\u001b[0m  \u001b[0;34m=\u001b[0m \u001b[0mtorch\u001b[0m\u001b[0;34m.\u001b[0m\u001b[0mfrom_numpy\u001b[0m\u001b[0;34m(\u001b[0m\u001b[0mtrain_x\u001b[0m\u001b[0;34m)\u001b[0m\u001b[0;34m\u001b[0m\u001b[0;34m\u001b[0m\u001b[0m\n\u001b[1;32m      5\u001b[0m \u001b[0;34m\u001b[0m\u001b[0m\n",
            "\u001b[0;31mValueError\u001b[0m: cannot reshape array of size 3360000 into shape (20,3,400,400)"
          ]
        }
      ]
    },
    {
      "cell_type": "code",
      "metadata": {
        "colab": {
          "base_uri": "https://localhost:8080/"
        },
        "id": "-VdLVLWyC5YL",
        "outputId": "5fc81ccb-c154-4d03-e751-740e3850f346"
      },
      "source": [
        "# MAKING TESTING SET\n",
        "dataset = []\n",
        " \n",
        "for image_name in mini_test['jpg_url']:\n",
        "    response = requests.get(image_name)\n",
        "    img = Image.open(BytesIO(response.content)).resize((pixel_size, pixel_size))\n",
        "    print(img.size) # output should be (400, 400) if the resizing worked\n",
        "    # should we crop the image??\n",
        "    pix = np.array(img)\n",
        "    dataset.append((pix))\n",
        "\n",
        "test_x = np.array(dataset)\n",
        "\n",
        "test_y = mini_test['classification'].values\n",
        "test_y\n",
        "test_x.shape"
      ],
      "execution_count": 110,
      "outputs": [
        {
          "output_type": "stream",
          "text": [
            "(400, 400)\n",
            "(400, 400)\n",
            "(400, 400)\n",
            "(400, 400)\n",
            "(400, 400)\n"
          ],
          "name": "stdout"
        },
        {
          "output_type": "execute_result",
          "data": {
            "text/plain": [
              "(5, 400, 400, 3)"
            ]
          },
          "metadata": {
            "tags": []
          },
          "execution_count": 110
        }
      ]
    },
    {
      "cell_type": "code",
      "metadata": {
        "colab": {
          "base_uri": "https://localhost:8080/"
        },
        "id": "WjpVbQVUDPdt",
        "outputId": "7c4632b5-6ff2-4856-a3c5-e16e98c0a1e3"
      },
      "source": [
        "# CONVERTING AND RESHAPING TESTING DATA\n",
        "# converting training images into torch format\n",
        "test_x = test_x.reshape(mini_test_size, 3, pixel_size, pixel_size)\n",
        "test_x  = torch.from_numpy(test_x)\n",
        "\n",
        "# converting the target into torch format\n",
        "test_y = test_y.astype(int);\n",
        "test_y = torch.from_numpy(test_y)\n",
        "\n",
        "# shape of training data\n",
        "test_x.shape, test_y.shape"
      ],
      "execution_count": 106,
      "outputs": [
        {
          "output_type": "execute_result",
          "data": {
            "text/plain": [
              "(torch.Size([5, 3, 400, 400]), torch.Size([5]))"
            ]
          },
          "metadata": {
            "tags": []
          },
          "execution_count": 106
        }
      ]
    }
  ]
}