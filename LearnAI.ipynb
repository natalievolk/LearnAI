{
  "nbformat": 4,
  "nbformat_minor": 0,
  "metadata": {
    "colab": {
      "name": "LearnAI.ipynb",
      "provenance": [],
      "collapsed_sections": [],
      "include_colab_link": true
    },
    "kernelspec": {
      "name": "python3",
      "display_name": "Python 3"
    },
    "accelerator": "GPU"
  },
  "cells": [
    {
      "cell_type": "markdown",
      "metadata": {
        "id": "view-in-github",
        "colab_type": "text"
      },
      "source": [
        "<a href=\"https://colab.research.google.com/github/natalievolk/LearnAI/blob/main/LearnAI.ipynb\" target=\"_parent\"><img src=\"https://colab.research.google.com/assets/colab-badge.svg\" alt=\"Open In Colab\"/></a>"
      ]
    },
    {
      "cell_type": "code",
      "metadata": {
        "id": "EWdwjqsPmZkF"
      },
      "source": [
        "import numpy as np\n",
        "import pandas as pd\n",
        "import matplotlib.pyplot as plt\n",
        "import torch\n",
        "import torch.nn as nn\n",
        "import torch.optim as optim\n",
        "from torch.utils.data import Dataset, DataLoader\n",
        "\n",
        "# pillow to load image\n",
        "from PIL import Image\n",
        "import cv2\n",
        "import requests\n",
        "from io import BytesIO\n",
        "#import urllib2\n",
        "\n"
      ],
      "execution_count": 4,
      "outputs": []
    },
    {
      "cell_type": "code",
      "metadata": {
        "colab": {
          "base_uri": "https://localhost:8080/",
          "height": 359
        },
        "id": "4iHIC3tJsire",
        "outputId": "c3b71700-0a2b-4f46-8a11-de9f82c0aa07"
      },
      "source": [
        "# training data\n",
        "url_train = 'https://raw.githubusercontent.com/natalievolk/LearnAI/main/book30-listing-train.csv'\n",
        "data_train = pd.read_csv(url_train, index_col=False, usecols=[2,5], encoding = \"ISO-8859-1\")\n",
        "data_train.columns = ['jpg_url', 'classification']\n",
        "\n",
        "\n",
        "# testing data\n",
        "url_test = 'https://raw.githubusercontent.com/natalievolk/LearnAI/main/book30-listing-test.csv'\n",
        "data_test = pd.read_csv(url_test, index_col=False, usecols=[2,5], encoding = \"ISO-8859-1\")\n",
        "data_test.columns = ['jpg_url', 'classification']\n",
        "\n",
        "data_train.head()\n",
        "data_test.head(10)"
      ],
      "execution_count": 5,
      "outputs": [
        {
          "output_type": "execute_result",
          "data": {
            "text/html": [
              "<div>\n",
              "<style scoped>\n",
              "    .dataframe tbody tr th:only-of-type {\n",
              "        vertical-align: middle;\n",
              "    }\n",
              "\n",
              "    .dataframe tbody tr th {\n",
              "        vertical-align: top;\n",
              "    }\n",
              "\n",
              "    .dataframe thead th {\n",
              "        text-align: right;\n",
              "    }\n",
              "</style>\n",
              "<table border=\"1\" class=\"dataframe\">\n",
              "  <thead>\n",
              "    <tr style=\"text-align: right;\">\n",
              "      <th></th>\n",
              "      <th>jpg_url</th>\n",
              "      <th>classification</th>\n",
              "    </tr>\n",
              "  </thead>\n",
              "  <tbody>\n",
              "    <tr>\n",
              "      <th>0</th>\n",
              "      <td>http://ecx.images-amazon.com/images/I/510l0qhi...</td>\n",
              "      <td>28</td>\n",
              "    </tr>\n",
              "    <tr>\n",
              "      <th>1</th>\n",
              "      <td>http://ecx.images-amazon.com/images/I/51p5aUY%...</td>\n",
              "      <td>1</td>\n",
              "    </tr>\n",
              "    <tr>\n",
              "      <th>2</th>\n",
              "      <td>http://ecx.images-amazon.com/images/I/51pum0eW...</td>\n",
              "      <td>21</td>\n",
              "    </tr>\n",
              "    <tr>\n",
              "      <th>3</th>\n",
              "      <td>http://ecx.images-amazon.com/images/I/51PuTPPC...</td>\n",
              "      <td>0</td>\n",
              "    </tr>\n",
              "    <tr>\n",
              "      <th>4</th>\n",
              "      <td>http://ecx.images-amazon.com/images/I/51uNnIlI...</td>\n",
              "      <td>15</td>\n",
              "    </tr>\n",
              "    <tr>\n",
              "      <th>5</th>\n",
              "      <td>http://ecx.images-amazon.com/images/I/51VIlqRy...</td>\n",
              "      <td>10</td>\n",
              "    </tr>\n",
              "    <tr>\n",
              "      <th>6</th>\n",
              "      <td>http://ecx.images-amazon.com/images/I/41n7iZq-...</td>\n",
              "      <td>23</td>\n",
              "    </tr>\n",
              "    <tr>\n",
              "      <th>7</th>\n",
              "      <td>http://ecx.images-amazon.com/images/I/41xLYt-v...</td>\n",
              "      <td>9</td>\n",
              "    </tr>\n",
              "    <tr>\n",
              "      <th>8</th>\n",
              "      <td>http://ecx.images-amazon.com/images/I/51KyLXcz...</td>\n",
              "      <td>4</td>\n",
              "    </tr>\n",
              "    <tr>\n",
              "      <th>9</th>\n",
              "      <td>http://ecx.images-amazon.com/images/I/51Jku59B...</td>\n",
              "      <td>25</td>\n",
              "    </tr>\n",
              "  </tbody>\n",
              "</table>\n",
              "</div>"
            ],
            "text/plain": [
              "                                             jpg_url  classification\n",
              "0  http://ecx.images-amazon.com/images/I/510l0qhi...              28\n",
              "1  http://ecx.images-amazon.com/images/I/51p5aUY%...               1\n",
              "2  http://ecx.images-amazon.com/images/I/51pum0eW...              21\n",
              "3  http://ecx.images-amazon.com/images/I/51PuTPPC...               0\n",
              "4  http://ecx.images-amazon.com/images/I/51uNnIlI...              15\n",
              "5  http://ecx.images-amazon.com/images/I/51VIlqRy...              10\n",
              "6  http://ecx.images-amazon.com/images/I/41n7iZq-...              23\n",
              "7  http://ecx.images-amazon.com/images/I/41xLYt-v...               9\n",
              "8  http://ecx.images-amazon.com/images/I/51KyLXcz...               4\n",
              "9  http://ecx.images-amazon.com/images/I/51Jku59B...              25"
            ]
          },
          "metadata": {
            "tags": []
          },
          "execution_count": 5
        }
      ]
    },
    {
      "cell_type": "code",
      "metadata": {
        "id": "Ci3MhQOVu23l"
      },
      "source": [
        "# MAKING TRAINING SET\n",
        "\n",
        "file = open(\"train.txt\", 'w')\n",
        "#Image Preprocessing\n",
        " \n",
        "for index, image_name in enumerate(data_train['jpg_url']):\n",
        "    if image_name[-4:] == \".jpg\":\n",
        "      file.write(image_name + \" \" + str(data_train['classification'][index]) + \"\\n\")\n",
        "\n",
        "file.close()\n",
        "\n",
        "\n",
        "file = open(\"test.txt\",'w')\n",
        " \n",
        "for index, image_name in enumerate(data_test['jpg_url']):\n",
        "    if image_name[-4:] == \".jpg\":\n",
        "      file.write(image_name + \" \" + str(data_test['classification'][index]) + \"\\n\")\n",
        " \n",
        "file.close()\n"
      ],
      "execution_count": 11,
      "outputs": []
    },
    {
      "cell_type": "code",
      "metadata": {
        "id": "1OdHJpM5_qik"
      },
      "source": [
        "class ImagesDataset(Dataset):\n",
        "\n",
        "    def __init__(self, text_file):\n",
        "        self.df = pd.read_csv(text_file, sep=' ')\n",
        "        self.df.columns = ['jpg_url', 'classification']\n",
        "\n",
        "    def __len__(self):\n",
        "        return len(self.df)\n",
        "\n",
        "    def __getitem__(self, idx):\n",
        "        response = requests.get(self.df['jpg_url'][idx])\n",
        "        img = Image.open(BytesIO(response.content)).resize((400, 400))\n",
        "        pix = np.array(img)\n",
        " \n",
        "        return (pix, self.df['classification'][idx])\n",
        "\n",
        "#dataset = ImagesDataset('train.txt')\n",
        "#dataset[10]\n",
        "#len(dataset)\n"
      ],
      "execution_count": 12,
      "outputs": []
    },
    {
      "cell_type": "code",
      "metadata": {
        "id": "xFzKW7uwNLpt"
      },
      "source": [
        ""
      ],
      "execution_count": null,
      "outputs": []
    },
    {
      "cell_type": "code",
      "metadata": {
        "id": "7FwytecSQQYs"
      },
      "source": [
        ""
      ],
      "execution_count": null,
      "outputs": []
    },
    {
      "cell_type": "code",
      "metadata": {
        "id": "BtqZ01sTQWKk"
      },
      "source": [
        ""
      ],
      "execution_count": null,
      "outputs": []
    }
  ]
}